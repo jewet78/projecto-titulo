{
  "cells": [
    {
      "cell_type": "markdown",
      "metadata": {},
      "source": [
        "Este notebook esta dedicado al entrenamiento de los modelos de filtrado y a las pruebas de rendimiento de estos mismos sumado a las pruebas de rendimiento de los modelos de dicados a la limpieza"
      ]
    },
    {
      "cell_type": "code",
      "execution_count": 1,
      "metadata": {
        "colab": {
          "base_uri": "https://localhost:8080/"
        },
        "id": "qGYOEW7O58Y-",
        "outputId": "58af0726-d850-4a91-868f-bb0357e67615"
      },
      "outputs": [
        {
          "name": "stderr",
          "output_type": "stream",
          "text": [
            "2024-06-18 04:47:51.419664: E external/local_xla/xla/stream_executor/cuda/cuda_dnn.cc:9261] Unable to register cuDNN factory: Attempting to register factory for plugin cuDNN when one has already been registered\n",
            "2024-06-18 04:47:51.419727: E external/local_xla/xla/stream_executor/cuda/cuda_fft.cc:607] Unable to register cuFFT factory: Attempting to register factory for plugin cuFFT when one has already been registered\n",
            "2024-06-18 04:47:51.506842: E external/local_xla/xla/stream_executor/cuda/cuda_blas.cc:1515] Unable to register cuBLAS factory: Attempting to register factory for plugin cuBLAS when one has already been registered\n",
            "2024-06-18 04:47:51.641941: I tensorflow/core/platform/cpu_feature_guard.cc:182] This TensorFlow binary is optimized to use available CPU instructions in performance-critical operations.\n",
            "To enable the following instructions: AVX2 FMA, in other operations, rebuild TensorFlow with the appropriate compiler flags.\n",
            "2024-06-18 04:47:52.788747: W tensorflow/compiler/tf2tensorrt/utils/py_utils.cc:38] TF-TRT Warning: Could not find TensorRT\n"
          ]
        },
        {
          "name": "stdout",
          "output_type": "stream",
          "text": [
            "TensorFlow version: 2.15.0\n"
          ]
        }
      ],
      "source": [
        "import tensorflow as tf\n",
        "print(\"TensorFlow version:\", tf.__version__)\n"
      ]
    },
    {
      "cell_type": "code",
      "execution_count": 2,
      "metadata": {
        "id": "svmaTQLm58ZA"
      },
      "outputs": [],
      "source": [
        "\n",
        "from tensorflow import keras as kr\n",
        "import numpy as np\n",
        "import seaborn as sbn\n",
        "import matplotlib.pyplot as plt\n",
        "\n",
        "import pandas as pd\n",
        "\n",
        "from sklearn.feature_extraction.text import TfidfVectorizer\n",
        "from sklearn.cluster import KMeans\n",
        "\n",
        "from sklearn.preprocessing import StandardScaler\n",
        "from sklearn.model_selection import train_test_split\n",
        "scaler = StandardScaler()\n",
        "\n",
        "from joblib import dump, load\n",
        "from sklearn.metrics import accuracy_score, precision_score\n",
        "from sklearn.model_selection import cross_val_score"
      ]
    },
    {
      "cell_type": "code",
      "execution_count": null,
      "metadata": {
        "id": "0RdKsf6458ZC"
      },
      "outputs": [],
      "source": [
        "def contar_letras(sequence,largo):\n",
        "    possible_letters = ['A', 'C', 'G', 'T', 'M', 'R', 'W', 'S', 'Y', 'K', 'V', 'H', 'D', 'B', 'N']\n",
        "\n",
        "    letter_counts=[]\n",
        "    for letter in possible_letters:\n",
        "        letter_counts.append(sequence.count(letter))\n",
        "    letter_counts.append(largo)\n",
        "    return letter_counts"
      ]
    },
    {
      "cell_type": "markdown",
      "metadata": {
        "id": "PClWBvpk58ZG"
      },
      "source": [
        "possible_letters = ['A', 'C', 'G', 'T', 'M', 'R', 'W', 'S', 'Y', 'K', 'V', 'H', 'D', 'B', 'N']"
      ]
    },
    {
      "cell_type": "code",
      "execution_count": null,
      "metadata": {
        "id": "ksatuG_p6tio"
      },
      "outputs": [],
      "source": [
        "aux=100"
      ]
    },
    {
      "cell_type": "code",
      "execution_count": null,
      "metadata": {
        "colab": {
          "base_uri": "https://localhost:8080/"
        },
        "id": "uAhpwbOv6pF_",
        "outputId": "e0f191f6-9ecb-4f18-bdcc-01dfd4b44835"
      },
      "outputs": [],
      "source": [
        "historias=[]\n",
        "total=[]\n",
        "for i in range(0,3):\n",
        "    a=[]\n",
        "    b=[]\n",
        "    for j in range(1, aux + 1):\n",
        "        iteracion=((i*100)+j)\n",
        "        print(\"Iteración:\", iteracion)\n",
        "        print(\"Cargando datos\")\n",
        "        try:\n",
        "            atr = np.load(f\"caracteristicas4/atributos_{iteracion}.npy\")\n",
        "            res = np.load(f\"caracteristicas4/resultados_{iteracion}.npy\")\n",
        "            a.append(atr)\n",
        "            b.append(res)\n",
        "\n",
        "            #if(i>15):\n",
        "            #break\n",
        "\n",
        "        except Exception as e:\n",
        "            print(f\"Ocurrió un error en la iteración {i}: {e}\")\n",
        "            pass\n",
        "        \n",
        "    a = np.concatenate(a, axis=0)\n",
        "\n",
        "    b = np.concatenate(b, axis=0)\n",
        "    \n",
        "    \n",
        "    #columns_to_extract = [6,7,8,15,16,17]\n",
        "    columns_to_extract = [6,7,8,9,10,11,18,19,20,21,22,23]\n",
        "    reduced_a=a[:, columns_to_extract]\n",
        "    \n",
        "    #print(a.shape)\n",
        "    #print(b.shape)\n",
        "    total.append(len(reduced_a))\n",
        "    \n",
        "    \n",
        "    X_train, X_test, y_train, y_test = train_test_split(reduced_a, b, test_size=0.2, random_state=42)\n",
        "    #print(X_test.shape)\n",
        "    break\n",
        "    #print(y_train.shape)\n",
        "    #X_trains = scaler.fit_transform(X_train)\n",
        "    #X_tests = scaler.fit_transform(X_test)\n",
        "    #rf_regressor.fit(X_train, y_train)\n",
        "    \n",
        "    #rl_model.fit(X_train, y_train)\n",
        "    \n",
        "    \n",
        "    #knn.fit(X_train,y_train)\n",
        "    #total.append(len(reduced_a))\n",
        "\"\"\"\n",
        "    historia=modelo.fit(\n",
        "        x=reduced_a,\n",
        "        y=b,\n",
        "        batch_size=500,\n",
        "        epochs=100,\n",
        "        validation_split=0.2\n",
        "    )\n",
        "    historias.append(historia)\n",
        "\"\"\"\n",
        "\n",
        "    #x_labels=['A_fr', 'C_fr', 'G_fr', 'T_fr', 'M_fr', 'R_fr', 'W_fr', 'S_fr', 'Y_fr', 'K_fr', 'V_fr', 'H_fr', 'D_fr', 'B_fr', 'N_fr','Largo_fr','q1','A_rv', 'C_rv', 'G_rv', 'T_rv', 'M_rv', 'R_rv', 'W_rv', 'S_rv', 'Y_rv', 'K_rv', 'V_rv', 'H_rv', 'D_rv', 'B_rv', 'N_rv','largo_rv','q2']"
      ]
    },
    {
      "cell_type": "code",
      "execution_count": null,
      "metadata": {},
      "outputs": [],
      "source": [
        "print(a[0])\n",
        "print(a.shape)"
      ]
    },
    {
      "cell_type": "code",
      "execution_count": null,
      "metadata": {},
      "outputs": [],
      "source": [
        "p=0\n",
        "for l in total:\n",
        "    p=p+l\n",
        "    print(p)"
      ]
    },
    {
      "cell_type": "code",
      "execution_count": null,
      "metadata": {},
      "outputs": [],
      "source": [
        "aux2=0\n",
        "for num in total:\n",
        "  aux2+=num\n",
        "\n",
        "print(aux2)"
      ]
    },
    {
      "cell_type": "code",
      "execution_count": null,
      "metadata": {},
      "outputs": [],
      "source": [
        "b_reshaped = b.reshape(-1, 1)\n",
        "\n",
        "# Concatenación horizontal de a y b\n",
        "c = np.hstack((a, b_reshaped))\n"
      ]
    },
    {
      "cell_type": "code",
      "execution_count": null,
      "metadata": {},
      "outputs": [],
      "source": [
        "\n",
        "columns_to_extract1 = [0,1,2,3,4,5,6,7,8,9,10,11,24]\n",
        "reduced_c=c[:, columns_to_extract1]\n",
        "column_names = [\n",
        "    'Num_A_fr', 'Num_C_fr', 'Num_G_fr', 'Num_T_fr', 'Num_N_fr', 'Largo_fr', 'good_qual_fr', 'bad_qual_fr',\n",
        "    'Prom_qual_fr','Mediana_qual_fr','Std_qual_fr','Var_qual_fr','existe'\n",
        "]\n",
        "df = pd.DataFrame(reduced_c, columns=column_names)"
      ]
    },
    {
      "cell_type": "code",
      "execution_count": null,
      "metadata": {},
      "outputs": [],
      "source": [
        "columns_to_extract2 = [12,13,14,15,16,17,18,19,20,21,22,23,24]\n",
        "reduced_c2=c[:, columns_to_extract2]\n",
        "\n",
        "column_names2 = [\n",
        "    'Num_A_rv', 'Num_C_rv', 'Num_G_rv', 'Num_T_rv', 'Num_N_rv', 'largo_rv', 'good_qual_rv',\n",
        "    'bad_qual_rv', 'Prom_qual_rv','Mediana_qual_rv','Std_qual_rv','Var_qual_rv', 'existe'\n",
        "]\n",
        "dk = pd.DataFrame(reduced_c2, columns=column_names2)"
      ]
    },
    {
      "cell_type": "code",
      "execution_count": null,
      "metadata": {},
      "outputs": [],
      "source": [
        "#df_seqs=pd.DataFrame(data2)\n",
        "corr_matrix=df.corr()"
      ]
    },
    {
      "cell_type": "code",
      "execution_count": null,
      "metadata": {},
      "outputs": [],
      "source": [
        "corr_matrix=dk.corr()"
      ]
    },
    {
      "cell_type": "code",
      "execution_count": null,
      "metadata": {},
      "outputs": [],
      "source": [
        "print(corr_matrix)"
      ]
    },
    {
      "cell_type": "code",
      "execution_count": null,
      "metadata": {},
      "outputs": [],
      "source": [
        "\n",
        "%matplotlib inline\n",
        "plt.rcParams['figure.figsize'] = (13, 10)"
      ]
    },
    {
      "cell_type": "code",
      "execution_count": null,
      "metadata": {},
      "outputs": [],
      "source": [
        "sbn.heatmap(corr_matrix,annot=True)\n",
        "plt.show()"
      ]
    },
    {
      "cell_type": "code",
      "execution_count": null,
      "metadata": {},
      "outputs": [],
      "source": [
        "\n",
        "columns_to_extract = [6,7,8,9,10,11,18,19,20,21,22,23,24]\n",
        "reduced_a=c[:, columns_to_extract]\n",
        "print(reduced_a.shape)"
      ]
    },
    {
      "cell_type": "code",
      "execution_count": null,
      "metadata": {},
      "outputs": [],
      "source": [
        "column_names2 = [\n",
        "   'good_qual_fr', 'bad_qual_fr',\n",
        "    'Prom_qual_fr','Mediana_qual_fr','Std_qual_fr','Var_qual_fr', 'good_qual_rv',\n",
        "    'bad_qual_rv', 'Prom_qual_rv','Mediana_qual_rv','Std_qual_rv','Var_qual_rv', 'existe'\n",
        "]\n",
        "df_2 = pd.DataFrame(reduced_a, columns=column_names2)"
      ]
    },
    {
      "cell_type": "code",
      "execution_count": null,
      "metadata": {},
      "outputs": [],
      "source": [
        "#df_seqs_red=pd.DataFrame(data2)\n",
        "corr_matrix_red=df_2.corr()"
      ]
    },
    {
      "cell_type": "code",
      "execution_count": null,
      "metadata": {},
      "outputs": [],
      "source": [
        "%matplotlib inline\n",
        "plt.rcParams['figure.figsize'] = (13, 10)"
      ]
    },
    {
      "cell_type": "code",
      "execution_count": null,
      "metadata": {},
      "outputs": [],
      "source": [
        "sbn.heatmap(corr_matrix_red,annot=True)\n",
        "plt.show()"
      ]
    },
    {
      "cell_type": "markdown",
      "metadata": {
        "id": "0IQV9FiNDNAt"
      },
      "source": [
        "(461412, 34)\n",
        "(461412,)\n",
        "(461412, 34)"
      ]
    },
    {
      "cell_type": "code",
      "execution_count": null,
      "metadata": {
        "id": "VBnak0cqSv8d"
      },
      "outputs": [],
      "source": [
        "from tensorflow.keras.models import Sequential\n",
        "from tensorflow.keras.layers import Conv1D, MaxPooling1D, Flatten, Dense,GlobalAveragePooling1D\n",
        "\n",
        "from tensorflow.keras.models import Sequential\n",
        "from tensorflow.keras.layers import Conv1D, MaxPooling1D, GlobalAveragePooling1D, Dense\n",
        "\n",
        "def modelo_cnn():\n",
        "    model = Sequential()\n",
        "\n",
        "    # Capa convolucional\n",
        "    model.add(Conv1D(64, 3, activation='relu', input_shape=(10, 1)))\n",
        "\n",
        "    # Capa de reducción\n",
        "    model.add(MaxPooling1D(2))\n",
        "\n",
        "    # Capa de reducción global\n",
        "    model.add(GlobalAveragePooling1D())\n",
        "\n",
        "    # Capa densa\n",
        "    model.add(Dense(64, activation='relu'))\n",
        "    model.add(Dense(128, activation='relu'))\n",
        "\n",
        "    # Capa de salida para clasificación binaria\n",
        "    model.add(Dense(1, activation='sigmoid'))\n",
        "\n",
        "    model.compile(loss='binary_crossentropy', optimizer='adam', metrics=['accuracy', 'mse', 'mae'])\n",
        "    model.summary()\n",
        "    return model\n"
      ]
    },
    {
      "cell_type": "code",
      "execution_count": null,
      "metadata": {},
      "outputs": [],
      "source": [
        "import tensorflow as tf\n",
        "\n",
        "import tensorflow as tf\n",
        "\n",
        "def binary_output_rnn_model():\n",
        "    # Definir el modelo RNN\n",
        "    model = tf.keras.Sequential([\n",
        "        tf.keras.layers.LSTM(64, return_sequences=True, input_shape=( 18,1)),\n",
        "        tf.keras.layers.LSTM(32, return_sequences=False),\n",
        "        tf.keras.layers.Dense(64, activation='relu'),\n",
        "        tf.keras.layers.Dense(32, activation='relu', kernel_regularizer=tf.keras.regularizers.L1(0.001)),\n",
        "        tf.keras.layers.Dense(16, activation='softmax'),\n",
        "        tf.keras.layers.Dense(8, activation='tanh'),\n",
        "        tf.keras.layers.Dense(1, activation='sigmoid')  # Capa de salida binaria\n",
        "    ])\n",
        "\n",
        "    # Compilar el modelo\n",
        "    optimizer = tf.keras.optimizers.Adam()\n",
        "    loss = tf.keras.losses.BinaryCrossentropy()\n",
        "    model.compile(loss=loss, optimizer=optimizer, metrics=['accuracy','mse','mae'])\n",
        "    model.summary()\n",
        "    return model\n",
        "\n",
        "# Crear una instancia del modelo\n",
        "\n",
        "# Entrenar el modelo con tus datos\n",
        "# binary_rnn_model.fit(x_train, y_train_binary, epochs=10, batch_size=32, validation_data=(x_val, y_val_binary))\n",
        "\n",
        "\n",
        "# Entrenar el modelo con tus datos\n",
        "# binary_rnn_model.fit(x_train, y_train_binary, epochs=10, batch_size=32, validation_data=(x_val, y_val_binary))\n"
      ]
    },
    {
      "cell_type": "code",
      "execution_count": 10,
      "metadata": {},
      "outputs": [],
      "source": [
        "def model_cnn_binary():\n",
        "    input_1 = tf.keras.Input(shape=(12,))\n",
        "\n",
        "    # Reshape to match Conv1D expectations\n",
        "    x = tf.keras.layers.Reshape((12, 1))(input_1)\n",
        "\n",
        "    # Convolutions for spatial processing\n",
        "    x = tf.keras.layers.Conv1D(32, 3, activation='relu', padding='same')(x)\n",
        "    x = tf.keras.layers.MaxPooling1D(2)(x)\n",
        "\n",
        "    # Additional convolutional layer to adjust dimensions before LSTM\n",
        "    x = tf.keras.layers.Conv1D(64, 3, activation='relu', padding='same')(x)\n",
        "    x = tf.keras.layers.MaxPooling1D(2)(x)\n",
        "\n",
        "    # LSTM Layer\n",
        "    x = tf.keras.layers.LSTM(64, return_sequences=True)(x)\n",
        "\n",
        "    # Additional dimension reduction with Dense layers and regularization\n",
        "    x = tf.keras.layers.Dense(32, activation='relu')(x)\n",
        "\n",
        "\n",
        "    # Additional layers with different activation functions\n",
        "    x = tf.keras.layers.Dense(16, activation='softmax')(x)\n",
        "    x = tf.keras.layers.Dense(8, activation='tanh')(x)\n",
        "\n",
        "    # Flatten and output layer for binary classification\n",
        "    x = tf.keras.layers.Flatten()(x)\n",
        "    outputs = tf.keras.layers.Dense(1, activation='sigmoid')(x)\n",
        "\n",
        "    optimizer = tf.keras.optimizers.Adam()\n",
        "    loss = tf.keras.losses.BinaryCrossentropy()\n",
        "\n",
        "    model = tf.keras.Model(inputs=input_1, outputs=outputs)\n",
        "    model.compile(loss=loss, optimizer=optimizer, metrics=['accuracy', 'mse', 'mae'])\n",
        "    model.summary()\n",
        "    return model\n"
      ]
    },
    {
      "cell_type": "code",
      "execution_count": null,
      "metadata": {},
      "outputs": [],
      "source": [
        "print(tf.config.list_physical_devices('GPU'))\n",
        "config = tf.compat.v1.ConfigProto()\n",
        "config.gpu_options.allow_growth = True\n",
        "session = tf.compat.v1.Session(config=config)\n"
      ]
    },
    {
      "cell_type": "code",
      "execution_count": 11,
      "metadata": {
        "colab": {
          "base_uri": "https://localhost:8080/"
        },
        "id": "dGMGf35qS1DH",
        "outputId": "0b157507-ca43-4363-ce8c-3e0f7c4eb83d"
      },
      "outputs": [
        {
          "name": "stdout",
          "output_type": "stream",
          "text": [
            "Model: \"model\"\n",
            "_________________________________________________________________\n",
            " Layer (type)                Output Shape              Param #   \n",
            "=================================================================\n",
            " input_1 (InputLayer)        [(None, 12)]              0         \n",
            "                                                                 \n",
            " reshape (Reshape)           (None, 12, 1)             0         \n",
            "                                                                 \n",
            " conv1d (Conv1D)             (None, 12, 32)            128       \n",
            "                                                                 \n",
            " max_pooling1d (MaxPooling1  (None, 6, 32)             0         \n",
            " D)                                                              \n",
            "                                                                 \n",
            " conv1d_1 (Conv1D)           (None, 6, 64)             6208      \n",
            "                                                                 \n",
            " max_pooling1d_1 (MaxPoolin  (None, 3, 64)             0         \n",
            " g1D)                                                            \n",
            "                                                                 \n",
            " lstm (LSTM)                 (None, 3, 64)             33024     \n",
            "                                                                 \n",
            " dense (Dense)               (None, 3, 32)             2080      \n",
            "                                                                 \n",
            " dense_1 (Dense)             (None, 3, 16)             528       \n",
            "                                                                 \n",
            " dense_2 (Dense)             (None, 3, 8)              136       \n",
            "                                                                 \n",
            " flatten (Flatten)           (None, 24)                0         \n",
            "                                                                 \n",
            " dense_3 (Dense)             (None, 1)                 25        \n",
            "                                                                 \n",
            "=================================================================\n",
            "Total params: 42129 (164.57 KB)\n",
            "Trainable params: 42129 (164.57 KB)\n",
            "Non-trainable params: 0 (0.00 Byte)\n",
            "_________________________________________________________________\n"
          ]
        }
      ],
      "source": [
        "#modelo = modelo_cnn()\n",
        "#modelo=binary_output_rnn_model()\n",
        "modelo=model_cnn_binary()"
      ]
    },
    {
      "cell_type": "code",
      "execution_count": null,
      "metadata": {
        "colab": {
          "base_uri": "https://localhost:8080/"
        },
        "id": "lhJAgU9MTozR",
        "outputId": "475b4c0c-8067-47df-9d7f-0cd5f5bf444e"
      },
      "outputs": [],
      "source": [
        "historia=modelo.fit(\n",
        "        x=reduced_a,\n",
        "        y=b,\n",
        "        batch_size=300,\n",
        "        epochs=1000,\n",
        "        validation_split=0.2\n",
        "    )"
      ]
    },
    {
      "cell_type": "code",
      "execution_count": null,
      "metadata": {},
      "outputs": [],
      "source": [
        "print(len(a))"
      ]
    },
    {
      "cell_type": "code",
      "execution_count": null,
      "metadata": {},
      "outputs": [],
      "source": [
        "X_train, X_test, y_train, y_test = train_test_split(reduced_a, b, test_size=0.2, random_state=42)"
      ]
    },
    {
      "cell_type": "code",
      "execution_count": null,
      "metadata": {
        "id": "jdxdNcIqa7Cv"
      },
      "outputs": [],
      "source": [
        "\n",
        "\n",
        "X_train = scaler.fit_transform(X_train)\n",
        "\n",
        "X_test = scaler.transform(X_test)\n"
      ]
    },
    {
      "cell_type": "code",
      "execution_count": null,
      "metadata": {
        "colab": {
          "base_uri": "https://localhost:8080/"
        },
        "id": "MDULD9nKc1rN",
        "outputId": "71da5ee4-a551-4953-fe49-bc5ee2fcf962"
      },
      "outputs": [],
      "source": [
        "print(len(X_train))\n",
        "print(len(X_test))"
      ]
    },
    {
      "cell_type": "markdown",
      "metadata": {
        "id": "QD5HLWIACwNO"
      },
      "source": [
        "k-vecino\n"
      ]
    },
    {
      "cell_type": "code",
      "execution_count": null,
      "metadata": {
        "colab": {
          "base_uri": "https://localhost:8080/",
          "height": 74
        },
        "id": "DS7rJ45gCvR-",
        "outputId": "4db0bdc5-74dd-450b-fcdf-0bccd4aeebac"
      },
      "outputs": [],
      "source": [
        "from sklearn.neighbors import KNeighborsClassifier\n",
        "\n",
        "knn = KNeighborsClassifier(n_neighbors=33)\n",
        "#knn.fit(X_train,y_train)\n",
        "\n"
      ]
    },
    {
      "cell_type": "code",
      "execution_count": null,
      "metadata": {
        "colab": {
          "base_uri": "https://localhost:8080/"
        },
        "id": "Ur1N8WNcwPdZ",
        "outputId": "d7f4ea4d-f595-4c4e-aaac-c2757b315108"
      },
      "outputs": [],
      "source": [
        "from joblib import dump, load\n",
        "dump(knn, 'knn_200_222.joblib')"
      ]
    },
    {
      "cell_type": "code",
      "execution_count": null,
      "metadata": {},
      "outputs": [],
      "source": [
        "import time"
      ]
    },
    {
      "cell_type": "code",
      "execution_count": null,
      "metadata": {},
      "outputs": [],
      "source": [
        "data={\n",
        "    'KNN':[0.89534,0.89468,0.89496,0.89511,0.89608],\n",
        "    'RLog':[0.89401,0.89475,0.89359,0.89435,0.89582],\n",
        "    'RFC':[0.88720,0.88588,0.88498,0.88835,0.88654],\n",
        "    'CNN':[0.89450,0.89602,0.89602,0.89503,0.8902]\n",
        "}"
      ]
    },
    {
      "cell_type": "code",
      "execution_count": null,
      "metadata": {},
      "outputs": [],
      "source": [
        "data={\n",
        "    'KNN':[0.89572,0.89798,0.89648,0.89587,0.89530],\n",
        "    'RLog':[0.89542,0.89530,0.89432,0.89504,0.89456],\n",
        "    'RFC':[0.89610,0.89755,0.89712,0.8979,0.89475],\n",
        "    'CNN':[0.897262,0.90059,0.89693,0.90066,0.89851]\n",
        "}"
      ]
    },
    {
      "cell_type": "code",
      "execution_count": null,
      "metadata": {},
      "outputs": [],
      "source": [
        "data_graph=pd.DataFrame(data)"
      ]
    },
    {
      "cell_type": "code",
      "execution_count": null,
      "metadata": {},
      "outputs": [],
      "source": [
        "#data_graph *= 100\n",
        "\n",
        "# Obtener los nombres de las pruebas (índice + 1)\n",
        "nombres_pruebas = ['Pliegue ' + str(i + 1) for i in range(len(data_graph))]\n",
        "\n",
        "# Crear el gráfico de barras\n",
        "data_graph.plot(kind='bar', figsize=(10, 6))\n",
        "plt.xticks(range(len(data_graph)), nombres_pruebas, rotation=0)\n",
        "plt.xlabel('Pliegues')\n",
        "plt.ylabel('Precisión (%)')\n",
        "plt.title('Resultados de Pruebas por Algoritmo \\ Modelo')\n",
        "plt.legend(title='Algoritmos y Modelos')\n",
        "\n",
        "    \n",
        "plt.ylim(89, data_graph.max().max()+0.5) \n",
        "\n",
        "plt.tight_layout()\n",
        "\n",
        "# Mostrar el gráfico\n",
        "plt.show()"
      ]
    },
    {
      "cell_type": "code",
      "execution_count": null,
      "metadata": {},
      "outputs": [],
      "source": [
        "start_time = time.time()\n",
        "y_pred = knn.predict(X_tests)\n",
        "end_time = time.time()\n",
        "elapsed_time = end_time - start_time\n",
        "print(\"Tiempo transcurrido:\", elapsed_time, \"segundos\")\n"
      ]
    },
    {
      "cell_type": "code",
      "execution_count": null,
      "metadata": {},
      "outputs": [],
      "source": [
        "accuracy = accuracy_score(y_test, y_pred)\n",
        "print(f'Exactitud: {accuracy}')\n",
        "\n",
        "# Calcular la precisión\n",
        "precision = precision_score(y_test, y_pred)\n",
        "print(f'Precisión: {precision}')"
      ]
    },
    {
      "cell_type": "markdown",
      "metadata": {},
      "source": [
        "Exactitud: 0.9011867020078651\n",
        "Precisión: 0.915965795947054"
      ]
    },
    {
      "cell_type": "markdown",
      "metadata": {},
      "source": [
        "Exactitud: 0.8961860670956232\n",
        "Precisión: 0.9112164027482669"
      ]
    },
    {
      "cell_type": "markdown",
      "metadata": {},
      "source": [
        "Exactitud: 0.8969397951104489\n",
        "Precisión: 0.9097515978633403"
      ]
    },
    {
      "cell_type": "code",
      "execution_count": null,
      "metadata": {},
      "outputs": [],
      "source": [
        "\n",
        "scores = cross_val_score(knn, X_test, y_test, cv=5)  # 5-fold cross-validation\n",
        "\n",
        "# Imprimir los puntajes\n",
        "print(\"Puntajes de validación cruzada:\", scores)"
      ]
    },
    {
      "cell_type": "markdown",
      "metadata": {},
      "source": [
        "Puntajes de validación cruzada: [0.89972801 0.90009182 0.89834208 0.89977998 0.89882716]"
      ]
    },
    {
      "cell_type": "markdown",
      "metadata": {},
      "source": [
        "Puntajes de validación cruzada: [0.89534281 0.89468589 0.89496249 0.89511807 0.89608436]"
      ]
    },
    {
      "cell_type": "code",
      "execution_count": null,
      "metadata": {},
      "outputs": [],
      "source": [
        "std_dev = np.std(scores)\n",
        "print(\"Desviación estándar de los puntajes:\", std_dev)"
      ]
    },
    {
      "cell_type": "markdown",
      "metadata": {},
      "source": [
        "Desviación estándar de los puntajes: 0.0006583711477839643"
      ]
    },
    {
      "cell_type": "markdown",
      "metadata": {},
      "source": [
        "Desviación estándar de los puntajes: 0.00047379921123187006"
      ]
    },
    {
      "cell_type": "code",
      "execution_count": null,
      "metadata": {
        "id": "mT-FgiFpFBN0"
      },
      "outputs": [],
      "source": [
        "import matplotlib.pyplot as plt"
      ]
    },
    {
      "cell_type": "code",
      "execution_count": null,
      "metadata": {
        "colab": {
          "base_uri": "https://localhost:8080/",
          "height": 489
        },
        "id": "I_C2H0kME48e",
        "outputId": "e5669878-c06f-471d-86f2-53772bb2f0e0"
      },
      "outputs": [],
      "source": [
        "print(f'Precisión del modelo: {accuracy:.2f}')\n",
        "\n",
        "# Crear el gráfico\n",
        "plt.scatter(y_test, y_pred)\n",
        "plt.xlabel('Etiqueta verdadera')\n",
        "plt.ylabel('Predicción')\n",
        "plt.title('Comparación de predicciones con etiquetas verdaderas')\n",
        "plt.show()\n"
      ]
    },
    {
      "cell_type": "markdown",
      "metadata": {},
      "source": [
        "Exactitud: 0.8946335917814202\n",
        "Precisión: 0.9070840057100298"
      ]
    },
    {
      "cell_type": "markdown",
      "metadata": {},
      "source": [
        "Exactitud: 0.8995483801647737\n",
        "Precisión: 0.9090789412548206"
      ]
    },
    {
      "cell_type": "markdown",
      "metadata": {
        "id": "bq3ih1PiEeXK"
      },
      "source": [
        "Exactitud: 0.7404397342955907\n",
        "Precisión: 0.7932013769363166\n",
        "300 vecinos, +400k secuencias\n"
      ]
    },
    {
      "cell_type": "markdown",
      "metadata": {
        "id": "VX5oqzLGGZBi"
      },
      "source": [
        "Exactitud: 0.7429111531190926\n",
        "Precisión: 0.7829011913104414"
      ]
    },
    {
      "cell_type": "markdown",
      "metadata": {
        "id": "WH0xepm5wHEp"
      },
      "source": [
        "Exactitud: 0.6887759218913903\n",
        "Precisión: 0.7602602602602603"
      ]
    },
    {
      "cell_type": "markdown",
      "metadata": {
        "id": "3qzt8Ba_dVTP"
      },
      "source": [
        "Exactitud: 0.6816532576116107\n",
        "Precisión: 0.7316136114160263"
      ]
    },
    {
      "cell_type": "markdown",
      "metadata": {
        "id": "V7lpy6APbH_w"
      },
      "source": [
        "\n",
        "Exactitud: 0.6931021485111195\n",
        "Precisión: 0.7245370370370371"
      ]
    },
    {
      "cell_type": "markdown",
      "metadata": {
        "id": "8-aMNuOBSVfL"
      },
      "source": [
        "Exactitud: 0.6986807387862797\n",
        "Precisión: 0.7375886524822695"
      ]
    },
    {
      "cell_type": "code",
      "execution_count": null,
      "metadata": {
        "colab": {
          "base_uri": "https://localhost:8080/",
          "height": 472
        },
        "id": "zX_HssolFi1Z",
        "outputId": "8765e514-070b-41af-a01e-0acf687b6876"
      },
      "outputs": [],
      "source": [
        "for class_label in np.unique(y_pred):\n",
        "    # Seleccionar los puntos que pertenecen a esta clase\n",
        "    X_class = X_test[y_pred == class_label]\n",
        "\n",
        "    # Graficar los puntos de esta clase con un color específico\n",
        "    plt.scatter(X_class[:, 0], X_class[:, 1], label=f'Clase {class_label}')\n",
        "\n",
        "plt.xlabel('Característica 1')\n",
        "plt.ylabel('Característica 2')\n",
        "plt.title('Gráfico de Clasificación KNN')\n",
        "plt.legend()\n",
        "plt.show()"
      ]
    },
    {
      "cell_type": "markdown",
      "metadata": {
        "id": "BETwSCHnCylM"
      },
      "source": [
        "svm"
      ]
    },
    {
      "cell_type": "code",
      "execution_count": null,
      "metadata": {},
      "outputs": [],
      "source": [
        "from sklearn.model_selection import train_test_split"
      ]
    },
    {
      "cell_type": "code",
      "execution_count": null,
      "metadata": {
        "colab": {
          "base_uri": "https://localhost:8080/",
          "height": 74
        },
        "id": "9NEpuCO958ZL",
        "outputId": "5c54a891-8ac2-4dd8-dca1-610d5fa4c989"
      },
      "outputs": [],
      "source": [
        "from sklearn.ensemble import RandomForestClassifier\n",
        "from sklearn.model_selection import train_test_split\n",
        "from sklearn.metrics import mean_squared_error\n",
        "\n",
        "# Dividir los datos en conjuntos de entrenamiento y prueba\n",
        "#X_train1, X_test1, X_train2, X_test2, y_train, y_test = train_test_split(X_input1_flat, X_input2_flat, y_output_flat, test_size=0.2, random_state=42)\n",
        "\n",
        "# Inicializar el regresor RandomForest\n",
        "rf_regressor = RandomForestClassifier(n_estimators=100, random_state=42)\n",
        "\n",
        "# Entrenar el modelo\n",
        "#rf_regressor.fit(X_train, y_train)\n",
        "#rf_regressor.fit([X_train1, X_train2], y_train)\n"
      ]
    },
    {
      "cell_type": "code",
      "execution_count": null,
      "metadata": {
        "colab": {
          "base_uri": "https://localhost:8080/"
        },
        "id": "d1NLcjr458ZL",
        "outputId": "7e7bfb08-e1c4-4b38-ab2a-d6a39d3a7335"
      },
      "outputs": [],
      "source": [
        "from sklearn.metrics import mean_squared_error, r2_score\n",
        "\n",
        "y_pred = rf_regressor.predict(X_test)\n",
        "mse = mean_squared_error(y_test, y_pred)\n",
        "r2 = r2_score(y_test, y_pred)\n",
        "\n",
        "#accuracy = accuracy_score(y_test, y_pred)\n",
        "#print(f'Exactitud: {accuracy}')\n",
        "\n",
        "# Calcular la precisión\n",
        "#precision = precision_score(y_test, y_pred)\n",
        "#print(f'Precisión: {precision}')\n",
        "\n",
        "print(f'Mean Squared Error: {mse}')\n",
        "print(f'R-squared: {r2}')\n",
        "\n"
      ]
    },
    {
      "cell_type": "code",
      "execution_count": null,
      "metadata": {},
      "outputs": [],
      "source": [
        "print(y_pred)"
      ]
    },
    {
      "cell_type": "markdown",
      "metadata": {},
      "source": [
        "Mean Squared Error: 0.08575086195409638\n",
        "R-squared: 0.3708976574757251"
      ]
    },
    {
      "cell_type": "markdown",
      "metadata": {},
      "source": [
        "Mean Squared Error: 0.071813886088724\n",
        "R-squared: 0.4731448415250653"
      ]
    },
    {
      "cell_type": "markdown",
      "metadata": {},
      "source": [
        "Mean Squared Error: 0.07182467345406045\n",
        "R-squared: 0.473065701133375"
      ]
    },
    {
      "cell_type": "markdown",
      "metadata": {},
      "source": [
        "Mean Squared Error: 0.07182467345406045\n",
        "R-squared: 0.473065701133375"
      ]
    },
    {
      "cell_type": "markdown",
      "metadata": {},
      "source": [
        "Mean Squared Error: 0.084822448994483\n",
        "R-squared: 0.3907452996439522"
      ]
    },
    {
      "cell_type": "markdown",
      "metadata": {},
      "source": [
        "Mean Squared Error: 0.08382766269328998\n",
        "R-squared: 0.3978905570261232"
      ]
    },
    {
      "cell_type": "markdown",
      "metadata": {},
      "source": [
        "Mean Squared Error: 0.08384832950985813\n",
        "R-squared: 0.3977421133619188"
      ]
    },
    {
      "cell_type": "markdown",
      "metadata": {},
      "source": [
        "Mean Squared Error: 0.08383161222244645\n",
        "R-squared: 0.3978621887199578"
      ]
    },
    {
      "cell_type": "markdown",
      "metadata": {},
      "source": [
        "Mean Squared Error: 0.07218979630055389\n",
        "R-squared: 0.4814819280127275"
      ]
    },
    {
      "cell_type": "markdown",
      "metadata": {
        "id": "YAsoecCcHX0C"
      },
      "source": [
        "Mean Squared Error: 0.20130679422902553\n",
        "R-squared: 0.09420774711396429"
      ]
    },
    {
      "cell_type": "markdown",
      "metadata": {
        "id": "tbJ_H8vaJVkn"
      },
      "source": [
        "Mean Squared Error: 0.20187209444424398\n",
        "R-squared: 0.0828419375011592"
      ]
    },
    {
      "cell_type": "markdown",
      "metadata": {
        "id": "0mEzkywjHE-9"
      },
      "source": [
        "Mean Squared Error: 0.20418807310902692\n",
        "R-squared: 0.07231983680750609\n"
      ]
    },
    {
      "cell_type": "markdown",
      "metadata": {
        "id": "i-nGHFDtwwS7"
      },
      "source": [
        "Mean Squared Error: 0.21526467013420308\n",
        "R-squared: 0.039607327861131636\n"
      ]
    },
    {
      "cell_type": "markdown",
      "metadata": {
        "id": "93_lL8Kldlf2"
      },
      "source": [
        "Mean Squared Error: 0.2196369522782844\n",
        "R-squared: 0.028014954909463263"
      ]
    },
    {
      "cell_type": "markdown",
      "metadata": {
        "id": "aN1KABYwBSYR"
      },
      "source": [
        "Exactitud: 0.7042593290614398\n",
        "Precisión: 0.7304582210242587\n",
        "Mean Squared Error: 0.2957406709385601\n",
        "R-squared: -0.35570131561808016"
      ]
    },
    {
      "cell_type": "markdown",
      "metadata": {
        "id": "kVimzphB58ZM"
      },
      "source": [
        "Mean Squared Error: 0.21148377739688326\n",
        "R-squared: 0.02409219605763624"
      ]
    },
    {
      "cell_type": "markdown",
      "metadata": {
        "id": "RofCgvpc58ZM"
      },
      "source": [
        "Mean Squared Error: 0.21793884920426165\n",
        "R-squared: -0.01440627993256327\n"
      ]
    },
    {
      "cell_type": "markdown",
      "metadata": {
        "id": "Q11k4Nls58ZM"
      },
      "source": [
        "Mean Squared Error: 0.22119389956950966\n",
        "R-squared: -0.029557059814445008"
      ]
    },
    {
      "cell_type": "markdown",
      "metadata": {
        "id": "_BNA3vEI58ZM"
      },
      "source": [
        "Mean Squared Error: 0.21692751518356335\n",
        "R-squared: -0.009698979763494986"
      ]
    },
    {
      "cell_type": "markdown",
      "metadata": {
        "id": "ZTwj_Igk58ZM"
      },
      "source": [
        "cambio de paradigma, dando conteo de letras y largo puro"
      ]
    },
    {
      "cell_type": "markdown",
      "metadata": {
        "id": "JyGC1VAC58ZN"
      },
      "source": [
        "Mean Squared Error: 0.17795166483968214\n",
        "R-squared: 0.1788286525842"
      ]
    },
    {
      "cell_type": "markdown",
      "metadata": {
        "id": "Pa9FdlPh58ZN"
      },
      "source": [
        "Mean Squared Error: 0.18141360431683015\n",
        "R-squared: 0.1591024070537358"
      ]
    },
    {
      "cell_type": "markdown",
      "metadata": {
        "id": "Q-vzHaaM58ZN"
      },
      "source": [
        "Mean Squared Error: 0.18141360431683015\n",
        "R-squared: 0.1591024070537358\n"
      ]
    },
    {
      "cell_type": "markdown",
      "metadata": {
        "id": "8hR_wgJV58ZN"
      },
      "source": [
        "Mean Squared Error: 0.1755127574225682\n",
        "R-squared: 0.17107820826153897\n"
      ]
    },
    {
      "cell_type": "markdown",
      "metadata": {
        "id": "tla_oo8x58ZN"
      },
      "source": [
        "Mean Squared Error: 0.17888907529190715\n",
        "R-squared: 0.15513233914734803"
      ]
    },
    {
      "cell_type": "markdown",
      "metadata": {
        "id": "qa_amQ85G79C"
      },
      "source": [
        "regresion logistica\n"
      ]
    },
    {
      "cell_type": "code",
      "execution_count": null,
      "metadata": {
        "colab": {
          "base_uri": "https://localhost:8080/",
          "height": 74
        },
        "id": "Vmw4GPbwG-cJ",
        "outputId": "473a06de-a223-4552-b8fa-a0b749071372"
      },
      "outputs": [],
      "source": [
        "from sklearn.linear_model import LogisticRegression\n",
        "\n",
        "rl_model = LogisticRegression()\n",
        "\n",
        "# Entrenar el modelo\n",
        "#rl_model.fit(X_train, y_train)\n"
      ]
    },
    {
      "cell_type": "code",
      "execution_count": null,
      "metadata": {
        "colab": {
          "base_uri": "https://localhost:8080/"
        },
        "id": "jhigQHB_HL2a",
        "outputId": "f83972d5-3fb4-4e1b-9be0-b899f6ca8e16"
      },
      "outputs": [],
      "source": [
        "predictions = rl_model.predict(X_test)\n",
        "0\n",
        "# Calcular la precisión\n",
        "accuracy = accuracy_score(y_test, predictions)\n",
        "print(f'Exactitud del modelo: {accuracy}')"
      ]
    },
    {
      "cell_type": "markdown",
      "metadata": {},
      "source": [
        "Exactitud del modelo: 0.893018435655438\n"
      ]
    },
    {
      "cell_type": "markdown",
      "metadata": {},
      "source": [
        "Exactitud del modelo: 0.8942661957527632"
      ]
    },
    {
      "cell_type": "markdown",
      "metadata": {},
      "source": [
        "Exactitud del modelo: 0.7368095965670817"
      ]
    },
    {
      "cell_type": "code",
      "execution_count": null,
      "metadata": {},
      "outputs": [],
      "source": [
        "import time"
      ]
    },
    {
      "cell_type": "code",
      "execution_count": null,
      "metadata": {},
      "outputs": [],
      "source": [
        "start_time = time.time()\n",
        "y_pred = rl_model.predict(X_tests)\n",
        "end_time = time.time()\n",
        "elapsed_time = end_time - start_time\n",
        "print(\"Tiempo transcurrido:\", elapsed_time, \"segundos\")"
      ]
    },
    {
      "cell_type": "code",
      "execution_count": null,
      "metadata": {},
      "outputs": [],
      "source": [
        "accuracy = accuracy_score(y_test, y_pred)\n",
        "print(f'Exactitud: {accuracy}')\n",
        "\n",
        "# Calcular la precisión\n",
        "precision = precision_score(y_test, y_pred)\n",
        "print(f'Precisión: {precision}')\n",
        "\n",
        "scores = cross_val_score(rl_model, X_tests, y_test, cv=5)  # 5-fold cross-validation\n",
        "\n",
        "# Imprimir los puntajes\n",
        "print(\"Puntajes de validación cruzada:\", scores)\n",
        "std_dev = np.std(scores)\n",
        "print(\"Desviación estándar de los puntajes:\", std_dev)"
      ]
    },
    {
      "cell_type": "markdown",
      "metadata": {},
      "source": [
        "Exactitud: 0.8957957260419432\n",
        "\n",
        "Precisión: 0.912748935276828"
      ]
    },
    {
      "cell_type": "markdown",
      "metadata": {},
      "source": [
        "Puntajes de validación cruzada: [0.89517521 0.89666844 0.89675139 0.89451155 0.89502588]\n",
        "\n",
        "Desviación estándar de los puntajes: 0.00091198067312009"
      ]
    },
    {
      "cell_type": "markdown",
      "metadata": {},
      "source": [
        "Exactitud: 0.8944884503282866\n",
        "\n",
        "Precisión: 0.9092473767061563\n",
        "\n",
        "Puntajes de validación cruzada: [0.89401169 0.89475504 0.89359679 0.89435743 0.89582505]\n",
        "\n",
        "Desviación estándar de los puntajes: 0.00076091264182547"
      ]
    },
    {
      "cell_type": "code",
      "execution_count": null,
      "metadata": {},
      "outputs": [],
      "source": [
        "print(len(X_test))"
      ]
    },
    {
      "cell_type": "code",
      "execution_count": null,
      "metadata": {},
      "outputs": [],
      "source": [
        "import time"
      ]
    },
    {
      "cell_type": "code",
      "execution_count": null,
      "metadata": {},
      "outputs": [],
      "source": [
        "start_time = time.time()\n",
        "y_pred = modelo.predict(X_test)\n",
        "end_time = time.time()\n",
        "elapsed_time = end_time - start_time\n",
        "print(\"Tiempo transcurrido:\", elapsed_time, \"segundos\")"
      ]
    },
    {
      "cell_type": "code",
      "execution_count": null,
      "metadata": {},
      "outputs": [],
      "source": [
        "print(y_pred[0])\n",
        "print(y_test[0])"
      ]
    },
    {
      "cell_type": "code",
      "execution_count": null,
      "metadata": {},
      "outputs": [],
      "source": [
        "y_pred_classes = (y_pred > 0.5).astype(\"int32\")"
      ]
    },
    {
      "cell_type": "code",
      "execution_count": null,
      "metadata": {},
      "outputs": [],
      "source": [
        "\n",
        "\n",
        "# Itera sobre los folds de la validación cruzada\n",
        "fold_scores = []\n",
        "for test_index,y in zip(np.array_split(X_test, 5),np.array_split(y_test, 5)):\n",
        "    accuracy = modelo.evaluate(test_index, y)\n",
        "    #print(accuracy)\n",
        "    fold_scores.append(accuracy[1])\n",
        "\n",
        "# Calcula el promedio de las métricas de cada fold\n",
        "average_score = sum(fold_scores) / len(fold_scores)\n",
        "print(\"Puntuaciones de validación cruzada:\", fold_scores)\n",
        "print(\"Puntuación promedio:\", average_score)"
      ]
    },
    {
      "cell_type": "markdown",
      "metadata": {},
      "source": [
        "Puntuaciones de validación cruzada: [0.9043189287185669, 0.9039204716682434, 0.9033141136169434, 0.9054449796676636, 0.9036086201667786]\n",
        "Puntuación promedio: 0.9041214227676392"
      ]
    },
    {
      "cell_type": "markdown",
      "metadata": {},
      "source": [
        "Puntuaciones de validación cruzada: [0.8944957256317139, 0.8960170149803162, 0.8950316309928894, 0.8958268761634827, 0.8980205655097961]\n",
        "Puntuación promedio: 0.8958783626556397"
      ]
    },
    {
      "cell_type": "code",
      "execution_count": null,
      "metadata": {},
      "outputs": [],
      "source": [
        "desviacion_estandar = np.std(fold_scores)\n",
        "\n",
        "print(f\"Desviación estándar de los puntajes de los folds: {desviacion_estandar}\")\n"
      ]
    },
    {
      "cell_type": "code",
      "execution_count": null,
      "metadata": {},
      "outputs": [],
      "source": [
        "from tf.keras.wrappers.scikit_learn import KerasClassifier\n",
        "keras_clf = KerasClassifier(build_fn=model, epochs=10, batch_size=32, verbose=0)\n"
      ]
    },
    {
      "cell_type": "code",
      "execution_count": null,
      "metadata": {},
      "outputs": [],
      "source": [
        "accuracy = accuracy_score(y_test, y_pred_classes)\n",
        "print(f'Exactitud: {accuracy}')\n",
        "\n",
        "# Calcular la precisión\n",
        "precision = precision_score(y_test, y_pred_classes)\n",
        "print(f'Precisión: {precision}')\n",
        "\n",
        "scores = cross_val_score(model, X_test, y_test, cv=5)  # 5-fold cross-validation\n",
        "\n",
        "# Imprimir los puntajes\n",
        "print(\"Puntajes de validación cruzada:\", scores)\n",
        "std_dev = np.std(scores)\n",
        "print(\"Desviación estándar de los puntajes:\", std_dev)"
      ]
    },
    {
      "cell_type": "code",
      "execution_count": null,
      "metadata": {},
      "outputs": [],
      "source": [
        "start_time = time.time()\n",
        "y_pred = rf_regressor.predict(X_test)\n",
        "end_time = time.time()\n",
        "elapsed_time = end_time - start_time\n",
        "print(\"Tiempo transcurrido:\", elapsed_time, \"segundos\")"
      ]
    },
    {
      "cell_type": "code",
      "execution_count": null,
      "metadata": {},
      "outputs": [],
      "source": [
        "accuracy = accuracy_score(y_test, y_pred)\n",
        "print(f'Exactitud: {accuracy}')\n",
        "\n",
        "# Calcular la precisión\n",
        "precision = precision_score(y_test, y_pred)\n",
        "print(f'Precisión: {precision}')\n",
        "\n",
        "scores = cross_val_score(rf_regressor, X_test, y_test, cv=5)  # 5-fold cross-validation\n",
        "\n",
        "# Imprimir los puntajes\n",
        "print(\"Puntajes de validación cruzada:\", scores)\n",
        "std_dev = np.std(scores)\n",
        "print(\"Desviación estándar de los puntajes:\", std_dev)"
      ]
    },
    {
      "cell_type": "code",
      "execution_count": null,
      "metadata": {
        "colab": {
          "base_uri": "https://localhost:8080/"
        },
        "id": "AW48dxXWHmFD",
        "outputId": "65764642-34a1-4c90-8654-c31f16f84493"
      },
      "outputs": [],
      "source": [
        "precision = precision_score(y_test,predictions)\n",
        "print(f'Precisión: {precision}')\n",
        "accuracy = accuracy_score(y_test,predictions)\n",
        "print(f'Exactitud: {accuracy}')"
      ]
    },
    {
      "cell_type": "markdown",
      "metadata": {},
      "source": [
        "Precisión: 0.9081020196587393\n",
        "Exactitud: 0.893018435655438"
      ]
    },
    {
      "cell_type": "markdown",
      "metadata": {},
      "source": [
        "Precisión: 0.909550583733552\n",
        "Exactitud: 0.8942661957527632"
      ]
    },
    {
      "cell_type": "markdown",
      "metadata": {},
      "source": [
        "Precisión: 0.909550583733552\n",
        "Exactitud: 0.8942661957527632"
      ]
    },
    {
      "cell_type": "markdown",
      "metadata": {},
      "source": [
        "Precisión: 0.909550583733552"
      ]
    },
    {
      "cell_type": "markdown",
      "metadata": {},
      "source": [
        "Precisión: 0.7046818727490997"
      ]
    },
    {
      "cell_type": "code",
      "execution_count": null,
      "metadata": {
        "id": "0qaGN5uX58ZO",
        "outputId": "acb24c75-2310-4e4d-940d-b24bf573925f"
      },
      "outputs": [],
      "source": [
        "print(y_pred.shape)\n",
        "print(y_pred[0])"
      ]
    },
    {
      "cell_type": "code",
      "execution_count": null,
      "metadata": {
        "id": "VEjFVeS758ZO"
      },
      "outputs": [],
      "source": [
        "import matplotlib.pyplot as plt\n",
        "from sklearn.tree import plot_tree\n",
        "\n",
        "for tree in rf_regressor.estimators_:  # Puedes cambiar el índice para visualizar otro árbol\n",
        "\n",
        "# Grafica el árbol\n",
        "    plt.figure(figsize=(20, 10))\n",
        "    plot_tree(tree, filled=True, feature_names=[f'feature_{i}' for i in range(a.shape[1])], class_names=['0', '1'])\n",
        "    plt.show()"
      ]
    },
    {
      "cell_type": "code",
      "execution_count": null,
      "metadata": {
        "id": "m_peYuNq58ZQ"
      },
      "outputs": [],
      "source": [
        "atr_prueba = np.load(f\"datos_caracteristicas/atributos_149.npy\")\n",
        "res_prueba = np.load(f\"datos_caracteristicas/resultados_149.npy\")\n",
        "\n"
      ]
    },
    {
      "cell_type": "code",
      "execution_count": null,
      "metadata": {
        "colab": {
          "base_uri": "https://localhost:8080/"
        },
        "id": "5RhzjDmU58ZR",
        "outputId": "a9d4b573-b9bc-4731-e9c7-d251ed54af89"
      },
      "outputs": [],
      "source": [
        "print(atr_prueba.shape)\n",
        "print(res_prueba.shape)"
      ]
    },
    {
      "cell_type": "code",
      "execution_count": null,
      "metadata": {},
      "outputs": [],
      "source": [
        "columns_to_extract = [0,1,2,3,14,15,16,17,18,19,20,21,22,33,34,35,36,37]\n",
        "atr_prueba=atr_prueba[:, columns_to_extract]"
      ]
    },
    {
      "cell_type": "code",
      "execution_count": null,
      "metadata": {
        "id": "YUuO44ljbqeE"
      },
      "outputs": [],
      "source": [
        "scaler = StandardScaler()\n",
        "atr_prueba = scaler.fit_transform(atr_prueba)"
      ]
    },
    {
      "cell_type": "code",
      "execution_count": null,
      "metadata": {
        "colab": {
          "base_uri": "https://localhost:8080/"
        },
        "id": "gDj93xks58ZR",
        "outputId": "4c6fff8b-15f1-41d1-f5c5-2e4d35a6ec11"
      },
      "outputs": [],
      "source": [
        "y_pred = rf_regressor.predict(atr_prueba)\n",
        "print(y_pred.shape)"
      ]
    },
    {
      "cell_type": "code",
      "execution_count": null,
      "metadata": {
        "colab": {
          "base_uri": "https://localhost:8080/"
        },
        "id": "FhMGY_lu58ZR",
        "outputId": "a1391b4a-2d62-4557-e32a-60874ab0bfad"
      },
      "outputs": [],
      "source": [
        "mse = mean_squared_error(res_prueba, y_pred)\n",
        "r2 = r2_score(res_prueba, y_pred)\n",
        "\n",
        "print(f'Mean Squared Error: {mse}')\n",
        "print(f'R-squared: {r2}')\n",
        "\n",
        "\n",
        "#accuracy = accuracy_score(y_test, y_pred)\n",
        "#print(f'Exactitud: {accuracy}')\n",
        "\n",
        "# Calcular la precisión\n",
        "#precision = precision_score(y_test, y_pred)\n",
        "#print(f'Precisión: {precision}')\n"
      ]
    },
    {
      "cell_type": "code",
      "execution_count": null,
      "metadata": {
        "colab": {
          "base_uri": "https://localhost:8080/"
        },
        "id": "IwSy4KMR58ZS",
        "outputId": "50191f3b-16ce-4938-b767-8e8f37aa0f20"
      },
      "outputs": [],
      "source": [
        "count=0\n",
        "count1=0\n",
        "count2=0\n",
        "for i,j in zip(y_pred,res_prueba):\n",
        "    if i>0.62:\n",
        "        aux=1\n",
        "    else:\n",
        "        aux=0\n",
        "    if aux==j:\n",
        "        count=count+1\n",
        "    if aux==1:\n",
        "        count1=count1+1\n",
        "    if j==1:\n",
        "        count2=count2+1\n",
        "print(f'similitudes {count}')\n",
        "print(f'elementos pre {count1}')\n",
        "print(f'elementos og {count2}')\n",
        "\n",
        "print(f\"totales: {len(res_prueba)}\")\n",
        "print(f\"delta el {count2-count1}\")"
      ]
    },
    {
      "cell_type": "markdown",
      "metadata": {},
      "source": [
        "similitudes 7155\n",
        "elementos pre 283\n",
        "elementos og 31546\n",
        "totales: 38760\n",
        "delta el 31263"
      ]
    },
    {
      "cell_type": "markdown",
      "metadata": {
        "id": "cyU88av5H2Nz"
      },
      "source": [
        "similitudes 6487\n",
        "elementos pre 2727\n",
        "elementos og 3100\n",
        "totales: 9604\n",
        "delta el 373\n",
        "\n"
      ]
    },
    {
      "cell_type": "markdown",
      "metadata": {
        "id": "m-LLdUF3HX4f"
      },
      "source": [
        "similitudes 6576\n",
        "elementos pre 2500\n",
        "elementos og 3100\n",
        "totales: 9604\n",
        "delta el 600\n"
      ]
    },
    {
      "cell_type": "markdown",
      "metadata": {
        "id": "TVNyQI9SdxpF"
      },
      "source": [
        "similitudes 3927\n",
        "elementos pre 7803\n",
        "elementos og 3100\n",
        "totales: 9604\n",
        "delta el -4703"
      ]
    },
    {
      "cell_type": "markdown",
      "metadata": {
        "id": "LfK3SGvqCZ3x"
      },
      "source": [
        "similitudes 6447\n",
        "elementos pre 2369\n",
        "elementos og 3100\n",
        "totales: 9604\n",
        "delta el 731"
      ]
    },
    {
      "cell_type": "markdown",
      "metadata": {
        "id": "6OSHpMqk58ZS"
      },
      "source": [
        "similitudes 9999\n",
        "elementos pre 3027\n",
        "elementos og 5176\n",
        "totales: 14764\n",
        "delta el 2149"
      ]
    },
    {
      "cell_type": "markdown",
      "metadata": {
        "id": "xyoZn2ve58ZT"
      },
      "source": [
        "similitudes 9417\n",
        "elementos pre 1493\n",
        "elementos og 5176\n",
        "totales: 14764\n",
        "delta el 3683"
      ]
    },
    {
      "cell_type": "markdown",
      "metadata": {
        "id": "DzeyyJdx58ZT"
      },
      "source": [
        "cambio de paragdigma"
      ]
    },
    {
      "cell_type": "markdown",
      "metadata": {
        "id": "XfZGNozn58ZT"
      },
      "source": [
        "similitudes 4718\n",
        "elementos pre 1459\n",
        "elementos og 1620\n",
        "4987"
      ]
    },
    {
      "cell_type": "markdown",
      "metadata": {
        "id": "zW29PHl258ZT"
      },
      "source": [
        "prueba 3 archivos"
      ]
    },
    {
      "cell_type": "markdown",
      "metadata": {
        "id": "8-JdE9fw58ZT"
      },
      "source": [
        "17929\n",
        "5342\n",
        "5960\n",
        "18839\n",
        " unos\n"
      ]
    },
    {
      "cell_type": "markdown",
      "metadata": {
        "id": "cIYOtquG58ZU"
      },
      "source": [
        "17929\n",
        "13497\n",
        "12879\n",
        "18839\n",
        "ceros\n"
      ]
    },
    {
      "cell_type": "markdown",
      "metadata": {
        "id": "AU-weGpb58ZU"
      },
      "source": [
        "1345\n",
        "1046\n",
        "12879\n",
        "18839\n",
        "ceros\n"
      ]
    },
    {
      "cell_type": "markdown",
      "metadata": {
        "id": "qWK4dNGF58ZU"
      },
      "source": [
        "1345\n",
        "301\n",
        "5960\n",
        "18839\n",
        "unos"
      ]
    },
    {
      "cell_type": "markdown",
      "metadata": {
        "id": "OISJxDEYL3TY"
      },
      "source": [
        "pred KNN\n"
      ]
    },
    {
      "cell_type": "code",
      "execution_count": null,
      "metadata": {
        "id": "z-IK6_jML6X2"
      },
      "outputs": [],
      "source": [
        "y_pred = knn.predict(atr_prueba)"
      ]
    },
    {
      "cell_type": "code",
      "execution_count": null,
      "metadata": {
        "colab": {
          "base_uri": "https://localhost:8080/"
        },
        "id": "3zQs2Pt3RSsR",
        "outputId": "761e312e-67d9-4768-c5ae-bee9807a0744"
      },
      "outputs": [],
      "source": [
        "accuracy = accuracy_score(res_prueba, y_pred)\n",
        "print(f'Exactitud: {accuracy}')\n",
        "\n",
        "# Calcular la precisión\n",
        "precision = precision_score(res_prueba, y_pred)\n",
        "print(f'Precisión: {precision}')"
      ]
    },
    {
      "cell_type": "markdown",
      "metadata": {},
      "source": [
        "Exactitud: 0.8854747162022704\n",
        "Precisión: 0.8897483824586628"
      ]
    },
    {
      "cell_type": "markdown",
      "metadata": {},
      "source": [
        "Exactitud: 0.8832043343653251\n",
        "Precisión: 0.8934156498442005"
      ]
    },
    {
      "cell_type": "markdown",
      "metadata": {},
      "source": [
        "Exactitud: 0.8856037151702786\n",
        "Precisión: 0.8909557593585972"
      ]
    },
    {
      "cell_type": "markdown",
      "metadata": {},
      "source": [
        "Exactitud: 0.8854747162022704\n",
        "Precisión: 0.8897707991832744\n"
      ]
    },
    {
      "cell_type": "markdown",
      "metadata": {},
      "source": [
        "Exactitud: 0.885061919504644\n",
        "Precisión: 0.8927028672484272"
      ]
    },
    {
      "cell_type": "markdown",
      "metadata": {
        "id": "0il823cMIE1A"
      },
      "source": [
        "Exactitud: 0.7380258225739276\n",
        "Precisión: 0.728125"
      ]
    },
    {
      "cell_type": "markdown",
      "metadata": {
        "id": "5tJ8eGPiIAen"
      },
      "source": [
        "Exactitud: 0.73771345272803\n",
        "Precisión: 0.7253685027152832\n"
      ]
    },
    {
      "cell_type": "markdown",
      "metadata": {
        "id": "yka8C_9pH-Ji"
      },
      "source": []
    },
    {
      "cell_type": "code",
      "execution_count": null,
      "metadata": {
        "colab": {
          "base_uri": "https://localhost:8080/"
        },
        "id": "PBMFtjugMAdR",
        "outputId": "696ee366-5cda-4810-9e17-a57f6853d169"
      },
      "outputs": [],
      "source": [
        "count=0\n",
        "count1=0\n",
        "count2=0\n",
        "for i,j in zip(y_pred,res_prueba):\n",
        "    if i>0.9:\n",
        "        aux=1\n",
        "    else:\n",
        "        aux=0\n",
        "    if aux==j:\n",
        "        count=count+1\n",
        "    if aux==1:\n",
        "        count1=count1+1\n",
        "    if j==1:\n",
        "        count2=count2+1\n",
        "print(f'similitudes {count}')\n",
        "print(f'elementos pre {count1}')\n",
        "print(f'elementos og {count2}')\n",
        "\n",
        "print(f\"totales: {len(res_prueba)}\")\n",
        "print(f\"delta el {count2-count1}\")"
      ]
    },
    {
      "cell_type": "markdown",
      "metadata": {
        "id": "3A0Gbs1nHmTo"
      },
      "source": [
        "similitudes 7085\n",
        "elementos pre 1289\n",
        "elementos og 3100\n",
        "totales: 9604\n",
        "delta el 1811"
      ]
    },
    {
      "cell_type": "markdown",
      "metadata": {
        "id": "QbUyo-Eqd6Ph"
      },
      "source": [
        "similitudes 6057\n",
        "elementos pre 2727\n",
        "elementos og 3100\n",
        "totales: 9604\n",
        "delta el 373"
      ]
    },
    {
      "cell_type": "code",
      "execution_count": null,
      "metadata": {
        "id": "_vGMuXWbcFoj"
      },
      "outputs": [],
      "source": [
        "\n",
        "y_pred = svm.predict(atr_prueba)"
      ]
    },
    {
      "cell_type": "code",
      "execution_count": null,
      "metadata": {
        "colab": {
          "base_uri": "https://localhost:8080/"
        },
        "id": "9veQBdXfcNqt",
        "outputId": "ab334ebb-6a90-4db7-d064-0b01a5600838"
      },
      "outputs": [],
      "source": [
        "count=0\n",
        "count1=0\n",
        "count2=0\n",
        "for i,j in zip(y_pred,res_prueba):\n",
        "    if i>0.5:\n",
        "        aux=1\n",
        "    else:\n",
        "        aux=0\n",
        "    if aux==j:\n",
        "        count=count+1\n",
        "    if aux==1:\n",
        "        count1=count1+1\n",
        "    if j==1:\n",
        "        count2=count2+1\n",
        "print(f'similitudes {count}')\n",
        "print(f'elementos pre {count1}')\n",
        "print(f'elementos og {count2}')\n",
        "\n",
        "print(f\"totales: {len(res_prueba)}\")\n",
        "print(f\"delta el {count2-count1}\")"
      ]
    },
    {
      "cell_type": "markdown",
      "metadata": {
        "id": "YnppnkvLeYGE"
      },
      "source": [
        "similitudes 6505\n",
        "elementos pre 1\n",
        "elementos og 3100\n",
        "totales: 9604\n",
        "delta el 3099\n"
      ]
    },
    {
      "cell_type": "code",
      "execution_count": null,
      "metadata": {
        "colab": {
          "base_uri": "https://localhost:8080/"
        },
        "id": "lH0v_cAKCRl7",
        "outputId": "4bff9b7c-b205-4086-b88a-618568a55865"
      },
      "outputs": [],
      "source": [
        "evaluacion=modelo.evaluate(atr_prueba, res_prueba)"
      ]
    },
    {
      "cell_type": "markdown",
      "metadata": {},
      "source": [
        "1212/1212 [==============================] - 6s 5ms/step - loss: 0.2619 - accuracy: 0.8953 - mse: 0.0781 - mae: 0.1557"
      ]
    },
    {
      "cell_type": "markdown",
      "metadata": {},
      "source": [
        "1212/1212 [==============================] - 5s 4ms/step - loss: 0.2598 - accuracy: 0.8960 - mse: 0.0774 - mae: 0.1532"
      ]
    },
    {
      "cell_type": "markdown",
      "metadata": {},
      "source": [
        "1212/1212 [==============================] - 3s 3ms/step - loss: 0.2693 - accuracy: 0.8897 - mse: 0.0810 - mae: 0.1603\n",
        "model 150 1\n"
      ]
    },
    {
      "cell_type": "markdown",
      "metadata": {},
      "source": [
        "155/155 [==============================] - 1s 4ms/step - loss: 0.2504 - accuracy: 0.8971 - mse: 0.0758 - mae: 0.1515 model 150 1\n"
      ]
    },
    {
      "cell_type": "markdown",
      "metadata": {},
      "source": [
        "301/301 [==============================] - 1s 2ms/step - loss: 1.5798 - accuracy: 0.6215 - mse: 0.2693 - mae: 0.4292"
      ]
    },
    {
      "cell_type": "markdown",
      "metadata": {
        "id": "m0XJ19rKCpFv"
      },
      "source": [
        "loss: 1.5798 - accuracy: 0.6215 - mse: 0.2693 - mae: 0.4292"
      ]
    },
    {
      "cell_type": "code",
      "execution_count": null,
      "metadata": {
        "colab": {
          "base_uri": "https://localhost:8080/"
        },
        "id": "7oFyyRJHIOXb",
        "outputId": "dd3a935e-a1a5-4696-e781-3f555d68e17a"
      },
      "outputs": [],
      "source": [
        "y_pred = rl_model.predict(atr_prueba)\n",
        "\n",
        "accuracy = accuracy_score(res_prueba, y_pred)\n",
        "print(f'Exactitud: {accuracy}')\n",
        "\n",
        "# Calcular la precisión\n",
        "precision = precision_score(res_prueba, y_pred)\n",
        "print(f'Precisión: {precision}')"
      ]
    },
    {
      "cell_type": "markdown",
      "metadata": {},
      "source": [
        "Exactitud: 0.8668214654282765\n",
        "Precisión: 0.9042409756695471"
      ]
    },
    {
      "cell_type": "markdown",
      "metadata": {},
      "source": [
        "Exactitud: 0.8686790505675954\n",
        "Precisión: 0.9063152721464554"
      ]
    },
    {
      "cell_type": "markdown",
      "metadata": {
        "id": "r8fF28l0Imku"
      },
      "source": [
        "Exactitud: 0.7212619741774261\n",
        "Precisión: 0.5951417004048583"
      ]
    },
    {
      "cell_type": "code",
      "execution_count": null,
      "metadata": {
        "colab": {
          "base_uri": "https://localhost:8080/"
        },
        "id": "wltaqTanIk2C",
        "outputId": "47f373ab-f9c9-460b-e6cf-9ac1dd738b1f"
      },
      "outputs": [],
      "source": [
        "count=0\n",
        "count1=0\n",
        "count2=0\n",
        "for i,j in zip(y_pred,res_prueba):\n",
        "    if i>0.5:\n",
        "        aux=1\n",
        "    else:\n",
        "        aux=0\n",
        "    if aux==j:\n",
        "        count=count+1\n",
        "    if aux==1:\n",
        "        count1=count1+1\n",
        "    if j==1:\n",
        "        count2=count2+1\n",
        "print(f'similitudes {count}')\n",
        "print(f'elementos pre {count1}')\n",
        "print(f'elementos og {count2}')\n",
        "\n",
        "print(f\"totales: {len(res_prueba)}\")\n",
        "print(f\"delta el {count2-count1}\")"
      ]
    },
    {
      "cell_type": "code",
      "execution_count": null,
      "metadata": {
        "colab": {
          "base_uri": "https://localhost:8080/"
        },
        "id": "rAeGmTvMI0YH",
        "outputId": "a7ed37f9-72fe-4286-f2a6-a1953391fdfe"
      },
      "outputs": [],
      "source": [
        "from joblib import dump, load\n",
        "dump(knn, 'knn_ul.joblib')\n",
        "\n",
        "loa"
      ]
    },
    {
      "cell_type": "code",
      "execution_count": null,
      "metadata": {},
      "outputs": [],
      "source": [
        "from joblib import dump, load"
      ]
    },
    {
      "cell_type": "code",
      "execution_count": null,
      "metadata": {},
      "outputs": [],
      "source": [
        "knn=load('knn_ul.joblib')\n",
        "rf_regressor=load('rf_ul.joblib')\n",
        "rl_model=load('rl_ult.joblib')\n",
        "model= tf.keras.models.load_model('binary_new_ul.keras')"
      ]
    },
    {
      "cell_type": "code",
      "execution_count": null,
      "metadata": {},
      "outputs": [],
      "source": [
        "dump(historias, 'binary_cnn_ul.joblib')"
      ]
    },
    {
      "cell_type": "code",
      "execution_count": null,
      "metadata": {
        "id": "uWEhPaynI2Rb"
      },
      "outputs": [],
      "source": [
        "num=400"
      ]
    },
    {
      "cell_type": "code",
      "execution_count": null,
      "metadata": {
        "colab": {
          "base_uri": "https://localhost:8080/"
        },
        "id": "TIeyCEbZI7Iz",
        "outputId": "24a13e35-b2f4-4d17-9083-ced80ec46a0e"
      },
      "outputs": [],
      "source": [
        "dump(rf_regressor, f'rf_ul.joblib')"
      ]
    },
    {
      "cell_type": "code",
      "execution_count": null,
      "metadata": {
        "colab": {
          "base_uri": "https://localhost:8080/"
        },
        "id": "n4muxCrzI9Au",
        "outputId": "c025f651-77a5-45a4-e449-8536a6dd758e"
      },
      "outputs": [],
      "source": [
        "dump(rl_model, f'rl_ult.joblib')"
      ]
    },
    {
      "cell_type": "code",
      "execution_count": null,
      "metadata": {
        "id": "oLmsMvusJS67"
      },
      "outputs": [],
      "source": [
        "modelo.save(f'binary_new_ul.keras')"
      ]
    },
    {
      "cell_type": "markdown",
      "metadata": {},
      "source": [
        "modelos de limpieza descartados\n"
      ]
    },
    {
      "cell_type": "code",
      "execution_count": null,
      "metadata": {},
      "outputs": [],
      "source": [
        "#model1= tf.keras.models.load_model('modelos/modelos limpieza descartados/2param_ree39.keras') #no\n",
        "#model2= tf.keras.models.load_model('modelos/modelos limpieza descartados/cnn_lstm_norl13cont.keras')#no\n",
        "#model3= tf.keras.models.load_model('modelos/modelos limpieza descartados/cnn_lstm_pt213cont.keras')#no\n",
        "#model4= tf.keras.models.load_model('modelos/modelos limpieza descartados/lstm_nrl_pt24cont_2pinput.keras')#no\n",
        "#model7= tf.keras.models.load_model('modelos/modelos limpieza descartados/cnn_lstm_pt212param2_2drops.keras')#no\n",
        "#model55= tf.keras.models.load_model('modelos/modelos limpieza descartados/cnn_nolstm.keras')#no\n",
        "#model8= tf.keras.models.load_model('modelos/modelos limpieza descartados/cnn_lstm.keras')#no\n",
        "#model9= tf.keras.models.load_model('cnn_lstm_pt224ult.keras')#no\n"
      ]
    },
    {
      "cell_type": "markdown",
      "metadata": {},
      "source": [
        "modelos finales elegidos. Compara con 8 y con 7 se refiere a los modelos 8 y 7 que tienen caracteristicas simmilares en estructura, pero cambia el tipo de input (4 vs 5). Los mejores resultados se vieron con 5"
      ]
    },
    {
      "cell_type": "code",
      "execution_count": 5,
      "metadata": {},
      "outputs": [],
      "source": [
        "\n",
        "model5= tf.keras.models.load_model('modelos/modelos limpieza elegidos/modelo_cnn_ltsm_4inputs.keras') #si final compara con 8\n",
        "model66= tf.keras.models.load_model('modelos/modelos limpieza elegidos/modelo_cnn_noltsm_4inputs.keras')#si no lstm compara con 7"
      ]
    },
    {
      "cell_type": "code",
      "execution_count": 7,
      "metadata": {},
      "outputs": [
        {
          "name": "stdout",
          "output_type": "stream",
          "text": [
            "Model: \"model\"\n",
            "__________________________________________________________________________________________________\n",
            " Layer (type)                Output Shape                 Param #   Connected to                  \n",
            "==================================================================================================\n",
            " input_1 (InputLayer)        [(None, 253, 4)]             0         []                            \n",
            "                                                                                                  \n",
            " input_2 (InputLayer)        [(None, 253, 4)]             0         []                            \n",
            "                                                                                                  \n",
            " input_3 (InputLayer)        [(None, 253, 1)]             0         []                            \n",
            "                                                                                                  \n",
            " input_4 (InputLayer)        [(None, 253, 1)]             0         []                            \n",
            "                                                                                                  \n",
            " conv1d (Conv1D)             (None, 253, 32)              416       ['input_1[0][0]']             \n",
            "                                                                                                  \n",
            " conv1d_1 (Conv1D)           (None, 253, 32)              416       ['input_2[0][0]']             \n",
            "                                                                                                  \n",
            " conv1d_2 (Conv1D)           (None, 253, 32)              128       ['input_3[0][0]']             \n",
            "                                                                                                  \n",
            " conv1d_3 (Conv1D)           (None, 253, 32)              128       ['input_4[0][0]']             \n",
            "                                                                                                  \n",
            " max_pooling1d (MaxPooling1  (None, 126, 32)              0         ['conv1d[0][0]']              \n",
            " D)                                                                                               \n",
            "                                                                                                  \n",
            " max_pooling1d_1 (MaxPoolin  (None, 126, 32)              0         ['conv1d_1[0][0]']            \n",
            " g1D)                                                                                             \n",
            "                                                                                                  \n",
            " max_pooling1d_2 (MaxPoolin  (None, 126, 32)              0         ['conv1d_2[0][0]']            \n",
            " g1D)                                                                                             \n",
            "                                                                                                  \n",
            " max_pooling1d_3 (MaxPoolin  (None, 126, 32)              0         ['conv1d_3[0][0]']            \n",
            " g1D)                                                                                             \n",
            "                                                                                                  \n",
            " concatenate (Concatenate)   (None, 126, 128)             0         ['max_pooling1d[0][0]',       \n",
            "                                                                     'max_pooling1d_1[0][0]',     \n",
            "                                                                     'max_pooling1d_2[0][0]',     \n",
            "                                                                     'max_pooling1d_3[0][0]']     \n",
            "                                                                                                  \n",
            " dropout (Dropout)           (None, 126, 128)             0         ['concatenate[0][0]']         \n",
            "                                                                                                  \n",
            " conv1d_4 (Conv1D)           (None, 126, 64)              24640     ['dropout[0][0]']             \n",
            "                                                                                                  \n",
            " max_pooling1d_4 (MaxPoolin  (None, 63, 64)               0         ['conv1d_4[0][0]']            \n",
            " g1D)                                                                                             \n",
            "                                                                                                  \n",
            " lstm (LSTM)                 (None, 63, 64)               33024     ['max_pooling1d_4[0][0]']     \n",
            "                                                                                                  \n",
            " dense (Dense)               (None, 63, 16)               1040      ['lstm[0][0]']                \n",
            "                                                                                                  \n",
            " dense_1 (Dense)             (None, 63, 8)                136       ['dense[0][0]']               \n",
            "                                                                                                  \n",
            " dropout_1 (Dropout)         (None, 63, 8)                0         ['dense_1[0][0]']             \n",
            "                                                                                                  \n",
            " flatten (Flatten)           (None, 504)                  0         ['dropout_1[0][0]']           \n",
            "                                                                                                  \n",
            " dense_2 (Dense)             (None, 1012)                 511060    ['flatten[0][0]']             \n",
            "                                                                                                  \n",
            " reshape (Reshape)           (None, 253, 4)               0         ['dense_2[0][0]']             \n",
            "                                                                                                  \n",
            "==================================================================================================\n",
            "Total params: 570988 (2.18 MB)\n",
            "Trainable params: 570988 (2.18 MB)\n",
            "Non-trainable params: 0 (0.00 Byte)\n",
            "__________________________________________________________________________________________________\n"
          ]
        }
      ],
      "source": [
        "model5.summary()"
      ]
    },
    {
      "cell_type": "code",
      "execution_count": 30,
      "metadata": {},
      "outputs": [
        {
          "data": {
            "image/png": "[encoded data removed]",
            "text/plain": [
              "<IPython.core.display.Image object>"
            ]
          },
          "execution_count": 30,
          "metadata": {},
          "output_type": "execute_result"
        }
      ],
      "source": [
        "tf.keras.utils.plot_model(model5,show_layer_names=False,show_shapes=True)"
      ]
    },
    {
      "cell_type": "code",
      "execution_count": null,
      "metadata": {},
      "outputs": [],
      "source": [
        "X_train, X_test, y_train, y_test = train_test_split(reduced_a, b, test_size=0.2, random_state=42)"
      ]
    },
    {
      "cell_type": "code",
      "execution_count": null,
      "metadata": {},
      "outputs": [],
      "source": [
        "model9.summary()"
      ]
    },
    {
      "cell_type": "code",
      "execution_count": null,
      "metadata": {},
      "outputs": [],
      "source": [
        "\n",
        "tf.keras.utils.plot_model(model66, to_file='model_plot.png', show_shapes=True, show_layer_names=True,show_layer_activations=True)"
      ]
    },
    {
      "cell_type": "code",
      "execution_count": null,
      "metadata": {},
      "outputs": [],
      "source": [
        "plot_model(model, to_file='model_plot.png', show_shapes=True, show_layer_names=True)\n"
      ]
    },
    {
      "cell_type": "code",
      "execution_count": null,
      "metadata": {},
      "outputs": [],
      "source": [
        "for i in range(0,1):\n",
        "  a=[]\n",
        "  b=[]\n",
        "  c=[]\n",
        "  qa=[]\n",
        "  qb=[]\n",
        "  #from google.colab import drive\n",
        "  #drive.mount('/content/drive')\n",
        "  for j in range(1,5):\n",
        "    try:\n",
        "      iteracion=(294+j)\n",
        "      print(\"Iteración:\", iteracion)\n",
        "      print(\"Cargando datos\")\n",
        "      encoded_fr = np.load(f\"seqs3/encoded_fr_{iteracion}.npy\")\n",
        "      qual_fr = np.load(f\"seqs3/qual_fr_{iteracion}.npy\")\n",
        "      qual_rv = np.load(f\"seqs3/qual_rv_{iteracion}.npy\")\n",
        "      encoded_rv = np.load(f\"seqs3/encoded_rv_{iteracion}.npy\")\n",
        "      encoded_tg = np.load(f\"seqs3/encoded_tg_{iteracion}.npy\")\n",
        "\n",
        "      #concatenated_sequence = tf.concat([encoded_fr[:, tf.newaxis], encoded_rv[:, tf.newaxis]], axis=1)\n",
        "      #a.append(concatenated_sequence)\n",
        "      #b.append(encoded_tg)\n",
        "      a.append(encoded_fr)\n",
        "      b.append(encoded_rv)\n",
        "      qa.append(qual_fr)\n",
        "      qb.append(qual_rv)\n",
        "      c.append(encoded_tg)\n",
        "      \n",
        "      \n",
        "      print(\"datos cargados con exito\")\n",
        "    except Exception as e:\n",
        "      print(f\"Ocurrió un error en la iteración {i}: {e}\")\n",
        "      pass\n",
        "  a = np.concatenate(a, axis=0)\n",
        "  b = np.concatenate(b, axis=0)\n",
        "  qa= np.concatenate(qa, axis=0)\n",
        "  qb = np.concatenate(qb, axis=0)\n",
        "  c = np.concatenate(c, axis=0)\n",
        "  \n",
        "  aa=np.array_split(a, 5)\n",
        "  bb=np.array_split(b, 5)\n",
        "  cc=np.array_split(qa, 5)\n",
        "  dd=np.array_split(qb, 5)\n",
        "  tt=np.array_split(c, 5)\n",
        "  \n",
        "  fold_scores = []\n",
        "  for l in range(0,5):\n",
        "      accuracy = model5.evaluate(x=[aa[l],bb[l],cc[l],dd[l]],y=tt[l])\n",
        "      fold_scores.append(accuracy[1])\n",
        "  print(\"Puntuaciones de validación cruzada:\", fold_scores)\n",
        "  desviacion_estandar = np.std(fold_scores)\n",
        "\n",
        "  print(f\"Desviación estándar de los puntajes de los folds: {desviacion_estandar}\")\n",
        "  print(len(c))\n",
        "\n"
      ]
    },
    {
      "cell_type": "markdown",
      "metadata": {},
      "source": [
        "Puntuaciones de validación cruzada:\n",
        "\n",
        " [0.2526956796646118, 0.25102534890174866, 0.24946941435337067, 0.24939069151878357, 0.2505827844142914]\n",
        "Desviación estándar de los puntajes de los folds: 0.0012089969685919629\n"
      ]
    },
    {
      "cell_type": "markdown",
      "metadata": {},
      "source": [
        "nuevo 6\n",
        "Puntuaciones de validación cruzada: \n",
        "\n",
        "[0.9907215237617493, 0.984387993812561, 0.9838592410087585, 0.9788932204246521, 0.980110764503479]\n",
        "\n",
        "Desviación estándar de los puntajes de los folds: 0.004140836402860514"
      ]
    },
    {
      "cell_type": "markdown",
      "metadata": {},
      "source": [
        "nuevo 8 \n",
        "Puntuaciones de validación cruzada:\n",
        " \n",
        "[0.9682237505912781, 0.9618226885795593, 0.9617609977722168, 0.9574515223503113, 0.9595823884010315]\n",
        "\n",
        "Desviación estándar de los puntajes de los folds: 0.0036080086631621955"
      ]
    },
    {
      "cell_type": "markdown",
      "metadata": {},
      "source": [
        "modelo 8\n",
        "\n",
        "Puntuaciones de validación cruzada: \n",
        "\n",
        "[0.9850539565086365, 0.9844131469726562, 0.9835770130157471, 0.9872142672538757, 0.9884533882141113]\n",
        "\n",
        "Desviación estándar de los puntajes de los folds: 0.0018135941741612182\n",
        "51836"
      ]
    },
    {
      "cell_type": "markdown",
      "metadata": {},
      "source": [
        "mod 7\n",
        "Puntuaciones de validación cruzada: \n",
        "\n",
        "[0.9804514050483704, 0.974535346031189, 0.980504035949707, 0.9768720865249634, 0.9795417189598083]\n",
        "\n",
        "\n",
        "Desviación estándar de los puntajes de los folds: 0.002332680925523021\n",
        "51836"
      ]
    },
    {
      "cell_type": "markdown",
      "metadata": {},
      "source": [
        "resultados mod 6\n",
        "\n",
        "\n",
        "Puntuaciones de validación cruzada:\n",
        "\n",
        " [0.9842976331710815, 0.9836471676826477, 0.9825906753540039, 0.9865729808807373, 0.987963080406189]\n",
        "\n",
        " \n",
        "Desviación estándar de los puntajes de los folds: 0.001968827595962612\n",
        "51836"
      ]
    },
    {
      "cell_type": "markdown",
      "metadata": {},
      "source": [
        "resultados mod 5\n",
        "\n",
        "Puntuaciones de validación cruzada:\n",
        "\n",
        " [0.982295036315918, 0.9823360443115234, 0.981977641582489, 0.9864574670791626, 0.9876996278762817]\n",
        "\n",
        " \n",
        "Desviación estándar de los puntajes de los folds: 0.0024238266830820215"
      ]
    },
    {
      "cell_type": "markdown",
      "metadata": {},
      "source": [
        "resultados modelo 1\n",
        "\n",
        "Puntuaciones de validación cruzada:\n",
        "\n",
        "[0.983790934085846, 0.982361912727356, 0.9816626906394958, 0.9860708713531494, 0.9871068000793457]\n",
        "\n",
        "Desviación estándar de los puntajes de los folds: 0.002094443870451148"
      ]
    },
    {
      "cell_type": "code",
      "execution_count": null,
      "metadata": {},
      "outputs": [],
      "source": []
    },
    {
      "cell_type": "code",
      "execution_count": null,
      "metadata": {},
      "outputs": [],
      "source": [
        "a = model8.predict(x=[aa[l],bb[l],cc[l],dd[l]])\n",
        "for item in a:\n",
        "    for it in item:\n",
        "        desviacion_estandar = np.std(it)\n",
        "        vector_normalizado =   it / np.sum(it)\n",
        "        #print(np.round(vector_normalizado, decimals=2))\n",
        "        \"\"\"\n",
        "        if desviacion_estandar<0.:\n",
        "            vector_normalizado = vector_one_hot / np.sum(vector_one_hot)\n",
        "            print(desviacion_estandar)\n",
        "            print(it)\n",
        "#print(a)\"\"\""
      ]
    },
    {
      "cell_type": "code",
      "execution_count": null,
      "metadata": {},
      "outputs": [],
      "source": [
        "\n",
        "\n",
        "mi_array=np.array([0.0, 0.33 ,0.33 ,0.33])"
      ]
    },
    {
      "cell_type": "code",
      "execution_count": null,
      "metadata": {},
      "outputs": [],
      "source": [
        "def decode(valor):\n",
        "    mapping = {\n",
        "        'A': [1, 0, 0, 0],\n",
        "        'C': [0, 1, 0, 0],\n",
        "        'G': [0, 0, 1, 0],\n",
        "        'T': [0, 0, 0, 1],\n",
        "        'M': [0.5, 0.5, 0, 0],\n",
        "        'R': [0.5, 0, 0.5, 0],\n",
        "        'W': [0.5, 0, 0, 0.5],\n",
        "        'S': [0, 0.5, 0.5, 0],\n",
        "        'Y': [0, 0.5, 0, 0.5],\n",
        "        'K': [0, 0, 0.5, 0.5],\n",
        "        'V': [0.33, 0.33, 0, 0.33],\n",
        "        'H': [0.33, 0.33, 0.33, 0],\n",
        "        'D': [0.33, 0, 0.33, 0.33],\n",
        "        'B': [0, 0.33, 0.33, 0.33],\n",
        "        'N': [0.25, 0.25, 0.25, 0.25],\n",
        "    }\n",
        "\n",
        "    for key, value in mapping.items():\n",
        "        if all(abs(v - vi) <= 0.15 for v, vi in zip(value, valor)):\n",
        "            return key\n",
        "    return None\n",
        "\n",
        "# Ejemplo de uso\n",
        "mi_valor = [0.25, 0.3, 0.25, 0.2]\n",
        "resultado = decode(mi_valor)\n",
        "if resultado:\n",
        "    print(f\"El valor es similar a '{resultado}' en el mapping.\")\n",
        "else:\n",
        "    print(\"No hay un valor similar en el mapping con una variación de ±0.1.\")\n"
      ]
    },
    {
      "cell_type": "code",
      "execution_count": null,
      "metadata": {},
      "outputs": [],
      "source": [
        "start_time = time.time()\n",
        "y_pred = knn.predict(X_test)\n",
        "end_time = time.time()\n",
        "elapsed_time = end_time - start_time\n",
        "print(\"Tiempo transcurrido:\", elapsed_time, \"segundos\")"
      ]
    }
  ],
  "metadata": {
    "accelerator": "GPU",
    "colab": {
      "gpuType": "T4",
      "provenance": []
    },
    "kernelspec": {
      "display_name": "Python 3",
      "name": "python3"
    },
    "language_info": {
      "codemirror_mode": {
        "name": "ipython",
        "version": 3
      },
      "file_extension": ".py",
      "mimetype": "text/x-python",
      "name": "python",
      "nbconvert_exporter": "python",
      "pygments_lexer": "ipython3",
      "version": "3.10.13"
    }
  },
  "nbformat": 4,
  "nbformat_minor": 0
}
